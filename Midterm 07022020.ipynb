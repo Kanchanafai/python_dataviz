{
 "cells": [
  {
   "cell_type": "markdown",
   "metadata": {},
   "source": [
    "# 1. สร้าง function ชื่อ smartDict ซึ่งทำหน้าที่\n",
    "#### - function รับ input เป็น list 2 ตัวที่มีขนาดเท่ากัน โดย list แรกเป็น list ของตัวเลข list ที่สองเป็น list ของ text \n",
    "#### - ถ้าค่าใน list เป็นเลขคู่ ให้ค่าใน dict เป็น output มี key เป็นค่าจาก list ตัวที่1 และ value จาก list ตัวที่ 2 \n",
    "#### - ถ้าค่าใน list เป็นเลขคี่ ให้ค่าใน dict เป็น output มี key เป็นค่าจาก list ตัวที่2 และ value จาก list ตัวที่ 1 \n",
    "#### - output ของ function คือ dict ที่สร้างขึ้น"
   ]
  },
  {
   "cell_type": "code",
   "execution_count": 78,
   "metadata": {},
   "outputs": [],
   "source": [
    "def smartDict (listnumber,listtext,logicV) :\n",
    "    if logicV:  \n",
    "        retdict = {}\n",
    "        for index in  range (len(listtext)): \n",
    "            retdict[listtext[index]] = listnumber [index] \n",
    "    else:\n",
    "        retdict = {}\n",
    "        for index in range (len(listtext)): \n",
    "            retdict[listnumber[index]] = listtext[index] \n",
    "            \n",
    "    return retdict"
   ]
  },
  {
   "cell_type": "code",
   "execution_count": 139,
   "metadata": {},
   "outputs": [
    {
     "data": {
      "text/plain": [
       "{1: 'apple', 'banana': 2, 3: 'orange'}"
      ]
     },
     "execution_count": 139,
     "metadata": {},
     "output_type": "execute_result"
    }
   ],
   "source": [
    "smartDict( [ 1 , 'banana' , 3 ] , [ 'apple' , 2 , 'orange' ] , False )"
   ]
  },
  {
   "cell_type": "markdown",
   "metadata": {},
   "source": [
    "# 2. จากไฟล์ Wuhan_nCoV_GNome.txt จงเขียนโปรแกรมเพื่อตอบคำถามต่อไปนี้\n",
    "#### - กรดอะมิโนใด (A, T, G, C) มีปริมาณมากที่สุดและมีเท่าไหร่\n",
    "#### - จงหา sequence ที่มีขนาด 3 และ 4ที่เกิดขึ้นซ้ำมากที่สุด"
   ]
  },
  {
   "cell_type": "code",
   "execution_count": 172,
   "metadata": {},
   "outputs": [],
   "source": [
    "import pandas as pd"
   ]
  },
  {
   "cell_type": "code",
   "execution_count": 173,
   "metadata": {},
   "outputs": [
    {
     "data": {
      "text/html": [
       "<div>\n",
       "<style scoped>\n",
       "    .dataframe tbody tr th:only-of-type {\n",
       "        vertical-align: middle;\n",
       "    }\n",
       "\n",
       "    .dataframe tbody tr th {\n",
       "        vertical-align: top;\n",
       "    }\n",
       "\n",
       "    .dataframe thead th {\n",
       "        text-align: right;\n",
       "    }\n",
       "</style>\n",
       "<table border=\"1\" class=\"dataframe\">\n",
       "  <thead>\n",
       "    <tr style=\"text-align: right;\">\n",
       "      <th></th>\n",
       "      <th>0</th>\n",
       "    </tr>\n",
       "  </thead>\n",
       "  <tbody>\n",
       "    <tr>\n",
       "      <th>0</th>\n",
       "      <td>ATTAAAGGTTTATACCTTCCCAGGTAACAAACCAACCAACTTTCGA...</td>\n",
       "    </tr>\n",
       "    <tr>\n",
       "      <th>1</th>\n",
       "      <td>CGAACTTTAAAATCTGTGTGGCTGTCACTCGGCTGCATGCTTAGTG...</td>\n",
       "    </tr>\n",
       "    <tr>\n",
       "      <th>2</th>\n",
       "      <td>TAATTACTGTCGTTGACAGGACACGAGTAACTCGTCTATCTTCTGC...</td>\n",
       "    </tr>\n",
       "    <tr>\n",
       "      <th>3</th>\n",
       "      <td>TTGCAGCCGATCATCAGCACATCTAGGTTTCGTCCGGGTGTGACCG...</td>\n",
       "    </tr>\n",
       "    <tr>\n",
       "      <th>4</th>\n",
       "      <td>CCTGGTTTCAACGAGAAAACACACGTCCAACTCAGTTTGCCTGTTT...</td>\n",
       "    </tr>\n",
       "    <tr>\n",
       "      <th>...</th>\n",
       "      <td>...</td>\n",
       "    </tr>\n",
       "    <tr>\n",
       "      <th>423</th>\n",
       "      <td>GTGCAGAATGAATTCTCGTAACTACATAGCACAAGTAGATGTAGTT...</td>\n",
       "    </tr>\n",
       "    <tr>\n",
       "      <th>424</th>\n",
       "      <td>TTAATCAGTGTGTAACATTAGGGAGGACTTGAAAGAGCCACCACAT...</td>\n",
       "    </tr>\n",
       "    <tr>\n",
       "      <th>425</th>\n",
       "      <td>GATCGAGTGTACAGTGAACAATGCTAGGGAGAGCTGCCTATATGGA...</td>\n",
       "    </tr>\n",
       "    <tr>\n",
       "      <th>426</th>\n",
       "      <td>TTTAGTAGTGCTATCCCCATGTGATTTTAATAGCTTCTTAGGAGAA...</td>\n",
       "    </tr>\n",
       "    <tr>\n",
       "      <th>427</th>\n",
       "      <td>AAAAAAAAAAAAA</td>\n",
       "    </tr>\n",
       "  </tbody>\n",
       "</table>\n",
       "<p>428 rows × 1 columns</p>\n",
       "</div>"
      ],
      "text/plain": [
       "                                                     0\n",
       "0    ATTAAAGGTTTATACCTTCCCAGGTAACAAACCAACCAACTTTCGA...\n",
       "1    CGAACTTTAAAATCTGTGTGGCTGTCACTCGGCTGCATGCTTAGTG...\n",
       "2    TAATTACTGTCGTTGACAGGACACGAGTAACTCGTCTATCTTCTGC...\n",
       "3    TTGCAGCCGATCATCAGCACATCTAGGTTTCGTCCGGGTGTGACCG...\n",
       "4    CCTGGTTTCAACGAGAAAACACACGTCCAACTCAGTTTGCCTGTTT...\n",
       "..                                                 ...\n",
       "423  GTGCAGAATGAATTCTCGTAACTACATAGCACAAGTAGATGTAGTT...\n",
       "424  TTAATCAGTGTGTAACATTAGGGAGGACTTGAAAGAGCCACCACAT...\n",
       "425  GATCGAGTGTACAGTGAACAATGCTAGGGAGAGCTGCCTATATGGA...\n",
       "426  TTTAGTAGTGCTATCCCCATGTGATTTTAATAGCTTCTTAGGAGAA...\n",
       "427                                      AAAAAAAAAAAAA\n",
       "\n",
       "[428 rows x 1 columns]"
      ]
     },
     "execution_count": 173,
     "metadata": {},
     "output_type": "execute_result"
    }
   ],
   "source": [
    "Wuhandata = pandas.read_csv ('C:\\\\Users\\\\GTCOM\\\\Downloads\\\\Wuhan_nCoV_GNome.txt',header = None)\n",
    "Wuhandata"
   ]
  },
  {
   "cell_type": "code",
   "execution_count": 174,
   "metadata": {},
   "outputs": [
    {
     "data": {
      "text/html": [
       "<div>\n",
       "<style scoped>\n",
       "    .dataframe tbody tr th:only-of-type {\n",
       "        vertical-align: middle;\n",
       "    }\n",
       "\n",
       "    .dataframe tbody tr th {\n",
       "        vertical-align: top;\n",
       "    }\n",
       "\n",
       "    .dataframe thead th {\n",
       "        text-align: right;\n",
       "    }\n",
       "</style>\n",
       "<table border=\"1\" class=\"dataframe\">\n",
       "  <thead>\n",
       "    <tr style=\"text-align: right;\">\n",
       "      <th></th>\n",
       "      <th>0</th>\n",
       "    </tr>\n",
       "  </thead>\n",
       "  <tbody>\n",
       "    <tr>\n",
       "      <th>0</th>\n",
       "      <td>ATTAAAGGTTTATACCTTCCCAGGTAACAAACCAACCAACTTTCGA...</td>\n",
       "    </tr>\n",
       "    <tr>\n",
       "      <th>1</th>\n",
       "      <td>CGAACTTTAAAATCTGTGTGGCTGTCACTCGGCTGCATGCTTAGTG...</td>\n",
       "    </tr>\n",
       "    <tr>\n",
       "      <th>2</th>\n",
       "      <td>TAATTACTGTCGTTGACAGGACACGAGTAACTCGTCTATCTTCTGC...</td>\n",
       "    </tr>\n",
       "    <tr>\n",
       "      <th>3</th>\n",
       "      <td>TTGCAGCCGATCATCAGCACATCTAGGTTTCGTCCGGGTGTGACCG...</td>\n",
       "    </tr>\n",
       "    <tr>\n",
       "      <th>4</th>\n",
       "      <td>CCTGGTTTCAACGAGAAAACACACGTCCAACTCAGTTTGCCTGTTT...</td>\n",
       "    </tr>\n",
       "  </tbody>\n",
       "</table>\n",
       "</div>"
      ],
      "text/plain": [
       "                                                   0\n",
       "0  ATTAAAGGTTTATACCTTCCCAGGTAACAAACCAACCAACTTTCGA...\n",
       "1  CGAACTTTAAAATCTGTGTGGCTGTCACTCGGCTGCATGCTTAGTG...\n",
       "2  TAATTACTGTCGTTGACAGGACACGAGTAACTCGTCTATCTTCTGC...\n",
       "3  TTGCAGCCGATCATCAGCACATCTAGGTTTCGTCCGGGTGTGACCG...\n",
       "4  CCTGGTTTCAACGAGAAAACACACGTCCAACTCAGTTTGCCTGTTT..."
      ]
     },
     "execution_count": 174,
     "metadata": {},
     "output_type": "execute_result"
    }
   ],
   "source": [
    "Wuhandata.head () #ดูหัวตารางข้างบน"
   ]
  },
  {
   "cell_type": "code",
   "execution_count": 175,
   "metadata": {},
   "outputs": [
    {
     "data": {
      "text/plain": [
       "70"
      ]
     },
     "execution_count": 175,
     "metadata": {},
     "output_type": "execute_result"
    }
   ],
   "source": [
    "len('ATTAAAGGTTTATACCTTCCCAGGTAACAAACCAACCAACTTTCGATCTCTTGTAGATCTGTTCTCTAAA')"
   ]
  },
  {
   "cell_type": "code",
   "execution_count": 176,
   "metadata": {},
   "outputs": [
    {
     "data": {
      "text/plain": [
       "(428, 1)"
      ]
     },
     "execution_count": 176,
     "metadata": {},
     "output_type": "execute_result"
    }
   ],
   "source": [
    "Wuhandata.shape"
   ]
  },
  {
   "cell_type": "code",
   "execution_count": 177,
   "metadata": {},
   "outputs": [
    {
     "data": {
      "text/plain": [
       "'CGAACTTTAAAATCTGTGTGGCTGTCACTCGGCTGCATGCTTAGTGCACTCACGCAGTATAATTAATAAC'"
      ]
     },
     "execution_count": 177,
     "metadata": {},
     "output_type": "execute_result"
    }
   ],
   "source": [
    "Wuhandata.iloc[1][0]"
   ]
  },
  {
   "cell_type": "code",
   "execution_count": 178,
   "metadata": {},
   "outputs": [
    {
     "name": "stdout",
     "output_type": "stream",
     "text": [
      "sequence is 29903 characters long\n"
     ]
    }
   ],
   "source": [
    "DNAlong = 0\n",
    "for row in range (Wuhandata.shape[0]):\n",
    "    DNAlong = DNAlong + len(Wuhandata.iloc[row][0])\n",
    "print (f'sequence is {DNAlong} characters long')"
   ]
  },
  {
   "cell_type": "code",
   "execution_count": null,
   "metadata": {},
   "outputs": [],
   "source": []
  },
  {
   "cell_type": "markdown",
   "metadata": {},
   "source": [
    "# 3. จากไฟล์ data.xlsx สร้างตาราง\n",
    "#### - ใหม่ที่ 2 columns โดย columns แรกชื่อว่า ภาษาอีสาน และมีค่าใน columns เป็นค่า จาก columns ภาษาอีสานเดิมแต่เปลี่ยน ค่าที่เป็น คำที่เป็น '/' เป็น ','\n",
    "#### - สร้างตาราง Dictionary โดยตารางประกอบด้วยสอง columns คือ ภาษาอีสาน และ ภาษาไทย โดยค่าใน columns ภาษาอีสาน คือคำในภาษาอีสาน และ columns คือคำแปลเป็นภาษากลางของภาษาอีสานใน columns แรก (ใช้ค่าจากตาราง data.xlsx โดยคำที่อยู่ในลำดับเดียวกันของ columns ภาษาอีสาน และ ภาษาไทย คือคำแปลของกันและกัน ถ้าจำนวนค่าทั้งสอง columns เท่ากัน - ถ้าจำนวนค่าระหว่างสอง columns ไม่เท่ากันให้ข้าม record นั้นไป)"
   ]
  },
  {
   "cell_type": "code",
   "execution_count": 82,
   "metadata": {},
   "outputs": [],
   "source": [
    "import pandas as pd"
   ]
  },
  {
   "cell_type": "code",
   "execution_count": 83,
   "metadata": {},
   "outputs": [],
   "source": [
    "L = ['ภาษาอีสาน' , 'ภาษาไทย']\n",
    "Data = pd.DataFrame.from_records([],columns = L)\n",
    "for i in range(32):\n",
    "    df = pd.read_excel('C://Users//GTCOM//Downloads//data (1).xlsx', sheet_name = i, usecols = 'B:C', skipfooter = 1)\n",
    "    Data = pd.concat([Data,df], axis = 0, ignore_index = True)"
   ]
  },
  {
   "cell_type": "code",
   "execution_count": 84,
   "metadata": {},
   "outputs": [
    {
     "data": {
      "text/html": [
       "<div>\n",
       "<style scoped>\n",
       "    .dataframe tbody tr th:only-of-type {\n",
       "        vertical-align: middle;\n",
       "    }\n",
       "\n",
       "    .dataframe tbody tr th {\n",
       "        vertical-align: top;\n",
       "    }\n",
       "\n",
       "    .dataframe thead th {\n",
       "        text-align: right;\n",
       "    }\n",
       "</style>\n",
       "<table border=\"1\" class=\"dataframe\">\n",
       "  <thead>\n",
       "    <tr style=\"text-align: right;\">\n",
       "      <th></th>\n",
       "      <th>ภาษาอีสาน</th>\n",
       "      <th>ภาษาไทย</th>\n",
       "    </tr>\n",
       "  </thead>\n",
       "  <tbody>\n",
       "    <tr>\n",
       "      <th>0</th>\n",
       "      <td>สวัสดี/สุผู้สุคน/เด้อ/จ้า</td>\n",
       "      <td>สวัสดี/ทุก ๆ คน/นะ/คะ</td>\n",
       "    </tr>\n",
       "    <tr>\n",
       "      <th>1</th>\n",
       "      <td>กิน/ข้าว/ก่อน/เด้อ/จ้า/ ไผ/สิ/ถ่า/เค้า/ดาวน์</td>\n",
       "      <td>กิน/ข้าว/ก่อน/นะ/จ้ะ/ใคร/จะ/รอ/เค้า/ดาวน์</td>\n",
       "    </tr>\n",
       "    <tr>\n",
       "      <th>2</th>\n",
       "      <td>เค้า/ดาว/กะ/ขอ/ให้/เค้า/ดาว/อย่าง/มี/ความ/สุข/...</td>\n",
       "      <td>เค้า/ดาวน์/ก็/ขอ/ให้/เค้า/ดาน์/อย่าง/มี/ความ/ส...</td>\n",
       "    </tr>\n",
       "    <tr>\n",
       "      <th>3</th>\n",
       "      <td>นี่/จ้า/อา/หาร/เย็น/เป็น/ลา/ซาน/ย่า/กับ/ผัก/สด...</td>\n",
       "      <td>นี่/จ้า/อา/หาร/เย็น/เป็น/ลา/ซาน/ย่า/กับ/ผัก/สด...</td>\n",
       "    </tr>\n",
       "    <tr>\n",
       "      <th>4</th>\n",
       "      <td>ขอ/ให้/เชิญ/แซ่บ/เด้อ/พี่/น้อง</td>\n",
       "      <td>ขอ/ให้/เชิญ/อร่อย/นะ/ทุก/คน</td>\n",
       "    </tr>\n",
       "    <tr>\n",
       "      <th>...</th>\n",
       "      <td>...</td>\n",
       "      <td>...</td>\n",
       "    </tr>\n",
       "    <tr>\n",
       "      <th>970</th>\n",
       "      <td>นั่น/แหละ/คุย/กัน/ไป่/อูย/คุย/กัน/ไป่/เป็น/ปี/...</td>\n",
       "      <td>นั้น/แหละ/คุย/กัน/ไป/อูย/คุย/กัน/ไป/เป็น/ปี/อย...</td>\n",
       "    </tr>\n",
       "    <tr>\n",
       "      <th>971</th>\n",
       "      <td>กะ/เล๊ย/แบบ/ชี/วิต/ชวง/นั่น/แบบ/สิ/เอา/จัง/ได๋...</td>\n",
       "      <td>ก็/เลย/แบบ/ชี/วิต/ช่วง/นั้น/แบบ/จะ/เอา/ยัง/ไง/...</td>\n",
       "    </tr>\n",
       "    <tr>\n",
       "      <th>972</th>\n",
       "      <td>เส็ด/แล่ว/กะ/เล๊ย/อ่า/เพิ่น/เซิน/ปะ/เออ/เซิน/ม...</td>\n",
       "      <td>เสร็จ/แล้ว/ก็/เลย/อ่า/เขา/เชิญ/ปะ/เออ/เชิญ/มา/...</td>\n",
       "    </tr>\n",
       "    <tr>\n",
       "      <th>973</th>\n",
       "      <td>ซวง/นั่น/ข่อย/กะ/เขว/เนาะ/จ้า/สิ/ไป่/ตอ/หรือ/ส...</td>\n",
       "      <td>ช่วง/นั้น/ฉัน/ก็/เคว้ง/อ่ะ/ค่ะ/จะ/ไป/ต่อ/หรือ/...</td>\n",
       "    </tr>\n",
       "    <tr>\n",
       "      <th>974</th>\n",
       "      <td>ข่อย/กะ/เล๊ย/ตัด/สิน/ใจ/กั๊บ/มู/หว่า/เออ/ข่อย/...</td>\n",
       "      <td>ฉัน/ก็/เลย/ตัด/สิน/ใจ/กับ/เพื่อน/ว่า/เออ/ฉัน/จ...</td>\n",
       "    </tr>\n",
       "  </tbody>\n",
       "</table>\n",
       "<p>975 rows × 2 columns</p>\n",
       "</div>"
      ],
      "text/plain": [
       "                                             ภาษาอีสาน  \\\n",
       "0                            สวัสดี/สุผู้สุคน/เด้อ/จ้า   \n",
       "1         กิน/ข้าว/ก่อน/เด้อ/จ้า/ ไผ/สิ/ถ่า/เค้า/ดาวน์   \n",
       "2    เค้า/ดาว/กะ/ขอ/ให้/เค้า/ดาว/อย่าง/มี/ความ/สุข/...   \n",
       "3    นี่/จ้า/อา/หาร/เย็น/เป็น/ลา/ซาน/ย่า/กับ/ผัก/สด...   \n",
       "4                       ขอ/ให้/เชิญ/แซ่บ/เด้อ/พี่/น้อง   \n",
       "..                                                 ...   \n",
       "970  นั่น/แหละ/คุย/กัน/ไป่/อูย/คุย/กัน/ไป่/เป็น/ปี/...   \n",
       "971  กะ/เล๊ย/แบบ/ชี/วิต/ชวง/นั่น/แบบ/สิ/เอา/จัง/ได๋...   \n",
       "972  เส็ด/แล่ว/กะ/เล๊ย/อ่า/เพิ่น/เซิน/ปะ/เออ/เซิน/ม...   \n",
       "973  ซวง/นั่น/ข่อย/กะ/เขว/เนาะ/จ้า/สิ/ไป่/ตอ/หรือ/ส...   \n",
       "974  ข่อย/กะ/เล๊ย/ตัด/สิน/ใจ/กั๊บ/มู/หว่า/เออ/ข่อย/...   \n",
       "\n",
       "                                               ภาษาไทย  \n",
       "0                                สวัสดี/ทุก ๆ คน/นะ/คะ  \n",
       "1            กิน/ข้าว/ก่อน/นะ/จ้ะ/ใคร/จะ/รอ/เค้า/ดาวน์  \n",
       "2    เค้า/ดาวน์/ก็/ขอ/ให้/เค้า/ดาน์/อย่าง/มี/ความ/ส...  \n",
       "3    นี่/จ้า/อา/หาร/เย็น/เป็น/ลา/ซาน/ย่า/กับ/ผัก/สด...  \n",
       "4                          ขอ/ให้/เชิญ/อร่อย/นะ/ทุก/คน  \n",
       "..                                                 ...  \n",
       "970  นั้น/แหละ/คุย/กัน/ไป/อูย/คุย/กัน/ไป/เป็น/ปี/อย...  \n",
       "971  ก็/เลย/แบบ/ชี/วิต/ช่วง/นั้น/แบบ/จะ/เอา/ยัง/ไง/...  \n",
       "972  เสร็จ/แล้ว/ก็/เลย/อ่า/เขา/เชิญ/ปะ/เออ/เชิญ/มา/...  \n",
       "973  ช่วง/นั้น/ฉัน/ก็/เคว้ง/อ่ะ/ค่ะ/จะ/ไป/ต่อ/หรือ/...  \n",
       "974  ฉัน/ก็/เลย/ตัด/สิน/ใจ/กับ/เพื่อน/ว่า/เออ/ฉัน/จ...  \n",
       "\n",
       "[975 rows x 2 columns]"
      ]
     },
     "execution_count": 84,
     "metadata": {},
     "output_type": "execute_result"
    }
   ],
   "source": [
    "Data"
   ]
  },
  {
   "cell_type": "code",
   "execution_count": 126,
   "metadata": {},
   "outputs": [],
   "source": [
    "Data0 = Data.iloc[0]['ภาษาอีสาน'].replace(\"/\", \",\")"
   ]
  },
  {
   "cell_type": "code",
   "execution_count": 127,
   "metadata": {},
   "outputs": [
    {
     "data": {
      "text/plain": [
       "'สวัสดี,สุผู้สุคน,เด้อ,จ้า'"
      ]
     },
     "execution_count": 127,
     "metadata": {},
     "output_type": "execute_result"
    }
   ],
   "source": [
    "Data0"
   ]
  },
  {
   "cell_type": "code",
   "execution_count": 135,
   "metadata": {},
   "outputs": [],
   "source": [
    "Data00 = Data0 + Data.iloc[0]['ภาษาไทย'].replace(\"/\", \",\")"
   ]
  },
  {
   "cell_type": "code",
   "execution_count": 136,
   "metadata": {},
   "outputs": [
    {
     "data": {
      "text/plain": [
       "'สวัสดี,สุผู้สุคน,เด้อ,จ้าสวัสดี,ทุก ๆ คน,นะ,คะ'"
      ]
     },
     "execution_count": 136,
     "metadata": {},
     "output_type": "execute_result"
    }
   ],
   "source": [
    "Data00"
   ]
  },
  {
   "cell_type": "code",
   "execution_count": 180,
   "metadata": {},
   "outputs": [],
   "source": [
    "def splitstr(col1):\n",
    "    co1 = col1.split('/')\n",
    "    return co1"
   ]
  },
  {
   "cell_type": "code",
   "execution_count": 181,
   "metadata": {},
   "outputs": [
    {
     "data": {
      "text/plain": [
       "['สวัสดี', 'สุผู้สุคน', 'เด้อ', 'จ้า']"
      ]
     },
     "execution_count": 181,
     "metadata": {},
     "output_type": "execute_result"
    }
   ],
   "source": [
    "splitstr(data1_df.iloc[0,1])"
   ]
  },
  {
   "cell_type": "code",
   "execution_count": 182,
   "metadata": {},
   "outputs": [],
   "source": [
    "list_11 = []\n",
    "list_22 = []\n",
    "for i in range(0,7):\n",
    "    list_11 += splitstr(data1_df.iloc[i,1])\n",
    "    list_22 += splitstr(data1_df.iloc[i,2])"
   ]
  },
  {
   "cell_type": "code",
   "execution_count": 169,
   "metadata": {},
   "outputs": [],
   "source": [
    "def google(col1,col2):\n",
    "    str = f'{col1} แปลว่า {col2}'\n",
    "    return str"
   ]
  },
  {
   "cell_type": "code",
   "execution_count": 170,
   "metadata": {},
   "outputs": [],
   "source": [
    "sum = []\n",
    "for i in range(len(list_11)):\n",
    "    oil+= [google(list_11[i],list_22[i])]"
   ]
  },
  {
   "cell_type": "code",
   "execution_count": 161,
   "metadata": {},
   "outputs": [
    {
     "data": {
      "text/plain": [
       "'สุผู้สุคน'"
      ]
     },
     "execution_count": 161,
     "metadata": {},
     "output_type": "execute_result"
    }
   ],
   "source": [
    "list_11[1]"
   ]
  },
  {
   "cell_type": "code",
   "execution_count": 163,
   "metadata": {},
   "outputs": [
    {
     "data": {
      "text/plain": [
       "{' ไผ แปลว่า ใคร',\n",
       " 'กะ แปลว่า ก็',\n",
       " 'กับ แปลว่า กับ',\n",
       " 'กิน แปลว่า กิน',\n",
       " 'ก่อน แปลว่า ก่อน',\n",
       " 'ขอ แปลว่า ขอ',\n",
       " 'ข้าว แปลว่า ข้าว',\n",
       " 'ความ แปลว่า ความ',\n",
       " 'จ้ะ แปลว่า จ้ะ',\n",
       " 'จ้า แปลว่า คะ',\n",
       " 'จ้า แปลว่า จ้ะ',\n",
       " 'จ้า แปลว่า จ้า',\n",
       " 'ซาน แปลว่า ซาน',\n",
       " 'ดาว แปลว่า ดาน์',\n",
       " 'ดาว แปลว่า ดาวน์',\n",
       " 'ดาวน์ แปลว่า ดาวน์',\n",
       " 'ถ่า แปลว่า รอ',\n",
       " 'ธิว แปลว่า ธิว',\n",
       " 'นะ แปลว่า นะ',\n",
       " 'นี่ แปลว่า นี่',\n",
       " 'น้อง แปลว่า คน',\n",
       " 'บอก แปลว่า บอก',\n",
       " 'ผัก แปลว่า ผัก',\n",
       " 'พี่ แปลว่า ทุก',\n",
       " 'พึ่ง แปลว่า พึ่ง',\n",
       " 'มี แปลว่า มี',\n",
       " 'ย่า แปลว่า ย่า',\n",
       " 'ลา แปลว่า ลา',\n",
       " 'ว่า แปลว่า ว่า',\n",
       " 'สด แปลว่า สด',\n",
       " 'สวัสดี แปลว่า สวัสดี',\n",
       " 'สิ แปลว่า จะ',\n",
       " 'สุข แปลว่า สุข',\n",
       " 'สุผู้สุคน แปลว่า ทุก ๆ คน',\n",
       " 'หลับ แปลว่า หลับ',\n",
       " 'หาร แปลว่า หาร',\n",
       " 'อย่า แปลว่า อย่า',\n",
       " 'อย่าง แปลว่า อย่าง',\n",
       " 'อา แปลว่า อา',\n",
       " 'อี แปลว่า คุณ',\n",
       " 'เค้า แปลว่า เค้า',\n",
       " 'เงียบ แปลว่า เงียบ',\n",
       " 'เชิญ แปลว่า เชิญ',\n",
       " 'เด้อ แปลว่า นะ',\n",
       " 'เป็น แปลว่า เป็น',\n",
       " 'เย็น แปลว่า เย็น',\n",
       " 'แซ่บ แปลว่า อร่อย',\n",
       " 'แมท แปลว่า แมท',\n",
       " 'แม่ แปลว่า แม่',\n",
       " 'แฮงจัด แปลว่า มาก ๆ',\n",
       " 'ให้ แปลว่า ให้'}"
      ]
     },
     "execution_count": 163,
     "metadata": {},
     "output_type": "execute_result"
    }
   ],
   "source": [
    "Usum = set(oil)\n",
    "Usum"
   ]
  },
  {
   "cell_type": "code",
   "execution_count": null,
   "metadata": {},
   "outputs": [],
   "source": []
  }
 ],
 "metadata": {
  "kernelspec": {
   "display_name": "Python 3",
   "language": "python",
   "name": "python3"
  },
  "language_info": {
   "codemirror_mode": {
    "name": "ipython",
    "version": 3
   },
   "file_extension": ".py",
   "mimetype": "text/x-python",
   "name": "python",
   "nbconvert_exporter": "python",
   "pygments_lexer": "ipython3",
   "version": "3.7.4"
  }
 },
 "nbformat": 4,
 "nbformat_minor": 2
}
