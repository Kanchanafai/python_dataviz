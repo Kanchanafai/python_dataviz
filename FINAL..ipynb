{
 "cells": [
  {
   "cell_type": "code",
   "execution_count": 1,
   "metadata": {},
   "outputs": [],
   "source": [
    "import pandas"
   ]
  },
  {
   "cell_type": "code",
   "execution_count": 2,
   "metadata": {},
   "outputs": [],
   "source": [
    "import matplotlib.pyplot as plt"
   ]
  },
  {
   "cell_type": "code",
   "execution_count": 3,
   "metadata": {},
   "outputs": [],
   "source": [
    "Covid_PATH = ('C:\\\\Users\\\\GTCOM\\\\Downloads\\\\2019_nCoV_data.csv')"
   ]
  },
  {
   "cell_type": "code",
   "execution_count": 4,
   "metadata": {},
   "outputs": [],
   "source": [
    "Covid_df = pandas.read_csv(Covid_PATH)"
   ]
  },
  {
   "cell_type": "code",
   "execution_count": 5,
   "metadata": {},
   "outputs": [
    {
     "data": {
      "text/html": [
       "<div>\n",
       "<style scoped>\n",
       "    .dataframe tbody tr th:only-of-type {\n",
       "        vertical-align: middle;\n",
       "    }\n",
       "\n",
       "    .dataframe tbody tr th {\n",
       "        vertical-align: top;\n",
       "    }\n",
       "\n",
       "    .dataframe thead th {\n",
       "        text-align: right;\n",
       "    }\n",
       "</style>\n",
       "<table border=\"1\" class=\"dataframe\">\n",
       "  <thead>\n",
       "    <tr style=\"text-align: right;\">\n",
       "      <th></th>\n",
       "      <th>Sno</th>\n",
       "      <th>Date</th>\n",
       "      <th>Province/State</th>\n",
       "      <th>Country</th>\n",
       "      <th>Last Update</th>\n",
       "      <th>Confirmed</th>\n",
       "      <th>Deaths</th>\n",
       "      <th>Recovered</th>\n",
       "    </tr>\n",
       "  </thead>\n",
       "  <tbody>\n",
       "    <tr>\n",
       "      <th>0</th>\n",
       "      <td>1</td>\n",
       "      <td>01/22/2020 12:00:00</td>\n",
       "      <td>Anhui</td>\n",
       "      <td>China</td>\n",
       "      <td>01/22/2020 12:00:00</td>\n",
       "      <td>1.0</td>\n",
       "      <td>0.0</td>\n",
       "      <td>0.0</td>\n",
       "    </tr>\n",
       "    <tr>\n",
       "      <th>1</th>\n",
       "      <td>2</td>\n",
       "      <td>01/22/2020 12:00:00</td>\n",
       "      <td>Beijing</td>\n",
       "      <td>China</td>\n",
       "      <td>01/22/2020 12:00:00</td>\n",
       "      <td>14.0</td>\n",
       "      <td>0.0</td>\n",
       "      <td>0.0</td>\n",
       "    </tr>\n",
       "    <tr>\n",
       "      <th>2</th>\n",
       "      <td>3</td>\n",
       "      <td>01/22/2020 12:00:00</td>\n",
       "      <td>Chongqing</td>\n",
       "      <td>China</td>\n",
       "      <td>01/22/2020 12:00:00</td>\n",
       "      <td>6.0</td>\n",
       "      <td>0.0</td>\n",
       "      <td>0.0</td>\n",
       "    </tr>\n",
       "    <tr>\n",
       "      <th>3</th>\n",
       "      <td>4</td>\n",
       "      <td>01/22/2020 12:00:00</td>\n",
       "      <td>Fujian</td>\n",
       "      <td>China</td>\n",
       "      <td>01/22/2020 12:00:00</td>\n",
       "      <td>1.0</td>\n",
       "      <td>0.0</td>\n",
       "      <td>0.0</td>\n",
       "    </tr>\n",
       "    <tr>\n",
       "      <th>4</th>\n",
       "      <td>5</td>\n",
       "      <td>01/22/2020 12:00:00</td>\n",
       "      <td>Gansu</td>\n",
       "      <td>China</td>\n",
       "      <td>01/22/2020 12:00:00</td>\n",
       "      <td>0.0</td>\n",
       "      <td>0.0</td>\n",
       "      <td>0.0</td>\n",
       "    </tr>\n",
       "  </tbody>\n",
       "</table>\n",
       "</div>"
      ],
      "text/plain": [
       "   Sno                 Date Province/State Country          Last Update  \\\n",
       "0    1  01/22/2020 12:00:00          Anhui   China  01/22/2020 12:00:00   \n",
       "1    2  01/22/2020 12:00:00        Beijing   China  01/22/2020 12:00:00   \n",
       "2    3  01/22/2020 12:00:00      Chongqing   China  01/22/2020 12:00:00   \n",
       "3    4  01/22/2020 12:00:00         Fujian   China  01/22/2020 12:00:00   \n",
       "4    5  01/22/2020 12:00:00          Gansu   China  01/22/2020 12:00:00   \n",
       "\n",
       "   Confirmed  Deaths  Recovered  \n",
       "0        1.0     0.0        0.0  \n",
       "1       14.0     0.0        0.0  \n",
       "2        6.0     0.0        0.0  \n",
       "3        1.0     0.0        0.0  \n",
       "4        0.0     0.0        0.0  "
      ]
     },
     "execution_count": 5,
     "metadata": {},
     "output_type": "execute_result"
    }
   ],
   "source": [
    "Covid_df.head()"
   ]
  },
  {
   "cell_type": "markdown",
   "metadata": {},
   "source": [
    "## เรียกดูจำนวนข้อมูลทั้งหมด"
   ]
  },
  {
   "cell_type": "code",
   "execution_count": 6,
   "metadata": {},
   "outputs": [
    {
     "data": {
      "text/plain": [
       "(1719, 8)"
      ]
     },
     "execution_count": 6,
     "metadata": {},
     "output_type": "execute_result"
    }
   ],
   "source": [
    "Covid_df.shape"
   ]
  },
  {
   "cell_type": "markdown",
   "metadata": {},
   "source": [
    "## ตรวจสอบค่าของข้อมูลว่ามีค่า missing value หรือไม่"
   ]
  },
  {
   "cell_type": "code",
   "execution_count": 7,
   "metadata": {},
   "outputs": [
    {
     "data": {
      "text/plain": [
       "Sno               False\n",
       "Date              False\n",
       "Province/State     True\n",
       "Country           False\n",
       "Last Update       False\n",
       "Confirmed         False\n",
       "Deaths            False\n",
       "Recovered         False\n",
       "dtype: bool"
      ]
     },
     "execution_count": 7,
     "metadata": {},
     "output_type": "execute_result"
    }
   ],
   "source": [
    "Covid_df.isnull().any()"
   ]
  },
  {
   "cell_type": "markdown",
   "metadata": {},
   "source": [
    "## ทำการเติมค่าให้ค่าที่มี missig value¶"
   ]
  },
  {
   "cell_type": "code",
   "execution_count": 8,
   "metadata": {},
   "outputs": [
    {
     "data": {
      "text/html": [
       "<div>\n",
       "<style scoped>\n",
       "    .dataframe tbody tr th:only-of-type {\n",
       "        vertical-align: middle;\n",
       "    }\n",
       "\n",
       "    .dataframe tbody tr th {\n",
       "        vertical-align: top;\n",
       "    }\n",
       "\n",
       "    .dataframe thead th {\n",
       "        text-align: right;\n",
       "    }\n",
       "</style>\n",
       "<table border=\"1\" class=\"dataframe\">\n",
       "  <thead>\n",
       "    <tr style=\"text-align: right;\">\n",
       "      <th></th>\n",
       "      <th>Sno</th>\n",
       "      <th>Date</th>\n",
       "      <th>Province/State</th>\n",
       "      <th>Country</th>\n",
       "      <th>Last Update</th>\n",
       "      <th>Confirmed</th>\n",
       "      <th>Deaths</th>\n",
       "      <th>Recovered</th>\n",
       "    </tr>\n",
       "  </thead>\n",
       "  <tbody>\n",
       "    <tr>\n",
       "      <th>0</th>\n",
       "      <td>1</td>\n",
       "      <td>01/22/2020 12:00:00</td>\n",
       "      <td>Anhui</td>\n",
       "      <td>China</td>\n",
       "      <td>01/22/2020 12:00:00</td>\n",
       "      <td>1.0</td>\n",
       "      <td>0.0</td>\n",
       "      <td>0.0</td>\n",
       "    </tr>\n",
       "    <tr>\n",
       "      <th>1</th>\n",
       "      <td>2</td>\n",
       "      <td>01/22/2020 12:00:00</td>\n",
       "      <td>Beijing</td>\n",
       "      <td>China</td>\n",
       "      <td>01/22/2020 12:00:00</td>\n",
       "      <td>14.0</td>\n",
       "      <td>0.0</td>\n",
       "      <td>0.0</td>\n",
       "    </tr>\n",
       "    <tr>\n",
       "      <th>2</th>\n",
       "      <td>3</td>\n",
       "      <td>01/22/2020 12:00:00</td>\n",
       "      <td>Chongqing</td>\n",
       "      <td>China</td>\n",
       "      <td>01/22/2020 12:00:00</td>\n",
       "      <td>6.0</td>\n",
       "      <td>0.0</td>\n",
       "      <td>0.0</td>\n",
       "    </tr>\n",
       "    <tr>\n",
       "      <th>3</th>\n",
       "      <td>4</td>\n",
       "      <td>01/22/2020 12:00:00</td>\n",
       "      <td>Fujian</td>\n",
       "      <td>China</td>\n",
       "      <td>01/22/2020 12:00:00</td>\n",
       "      <td>1.0</td>\n",
       "      <td>0.0</td>\n",
       "      <td>0.0</td>\n",
       "    </tr>\n",
       "    <tr>\n",
       "      <th>4</th>\n",
       "      <td>5</td>\n",
       "      <td>01/22/2020 12:00:00</td>\n",
       "      <td>Gansu</td>\n",
       "      <td>China</td>\n",
       "      <td>01/22/2020 12:00:00</td>\n",
       "      <td>0.0</td>\n",
       "      <td>0.0</td>\n",
       "      <td>0.0</td>\n",
       "    </tr>\n",
       "    <tr>\n",
       "      <th>...</th>\n",
       "      <td>...</td>\n",
       "      <td>...</td>\n",
       "      <td>...</td>\n",
       "      <td>...</td>\n",
       "      <td>...</td>\n",
       "      <td>...</td>\n",
       "      <td>...</td>\n",
       "      <td>...</td>\n",
       "    </tr>\n",
       "    <tr>\n",
       "      <th>1714</th>\n",
       "      <td>1715</td>\n",
       "      <td>02/17/2020 22:00:00</td>\n",
       "      <td>Madison, WI</td>\n",
       "      <td>US</td>\n",
       "      <td>2020-02-05T21:53:02</td>\n",
       "      <td>1.0</td>\n",
       "      <td>0.0</td>\n",
       "      <td>0.0</td>\n",
       "    </tr>\n",
       "    <tr>\n",
       "      <th>1715</th>\n",
       "      <td>1716</td>\n",
       "      <td>02/17/2020 22:00:00</td>\n",
       "      <td>Orange, CA</td>\n",
       "      <td>US</td>\n",
       "      <td>2020-02-01T19:53:03</td>\n",
       "      <td>1.0</td>\n",
       "      <td>0.0</td>\n",
       "      <td>0.0</td>\n",
       "    </tr>\n",
       "    <tr>\n",
       "      <th>1716</th>\n",
       "      <td>1717</td>\n",
       "      <td>02/17/2020 22:00:00</td>\n",
       "      <td>San Antonio, TX</td>\n",
       "      <td>US</td>\n",
       "      <td>2020-02-13T18:53:02</td>\n",
       "      <td>1.0</td>\n",
       "      <td>0.0</td>\n",
       "      <td>0.0</td>\n",
       "    </tr>\n",
       "    <tr>\n",
       "      <th>1717</th>\n",
       "      <td>1718</td>\n",
       "      <td>02/17/2020 22:00:00</td>\n",
       "      <td>Seattle, WA</td>\n",
       "      <td>US</td>\n",
       "      <td>2020-02-09T07:03:04</td>\n",
       "      <td>1.0</td>\n",
       "      <td>0.0</td>\n",
       "      <td>1.0</td>\n",
       "    </tr>\n",
       "    <tr>\n",
       "      <th>1718</th>\n",
       "      <td>1719</td>\n",
       "      <td>02/17/2020 22:00:00</td>\n",
       "      <td>Tempe, AZ</td>\n",
       "      <td>US</td>\n",
       "      <td>2020-02-01T19:43:03</td>\n",
       "      <td>1.0</td>\n",
       "      <td>0.0</td>\n",
       "      <td>0.0</td>\n",
       "    </tr>\n",
       "  </tbody>\n",
       "</table>\n",
       "<p>1719 rows × 8 columns</p>\n",
       "</div>"
      ],
      "text/plain": [
       "       Sno                 Date   Province/State Country          Last Update  \\\n",
       "0        1  01/22/2020 12:00:00            Anhui   China  01/22/2020 12:00:00   \n",
       "1        2  01/22/2020 12:00:00          Beijing   China  01/22/2020 12:00:00   \n",
       "2        3  01/22/2020 12:00:00        Chongqing   China  01/22/2020 12:00:00   \n",
       "3        4  01/22/2020 12:00:00           Fujian   China  01/22/2020 12:00:00   \n",
       "4        5  01/22/2020 12:00:00            Gansu   China  01/22/2020 12:00:00   \n",
       "...    ...                  ...              ...     ...                  ...   \n",
       "1714  1715  02/17/2020 22:00:00      Madison, WI      US  2020-02-05T21:53:02   \n",
       "1715  1716  02/17/2020 22:00:00       Orange, CA      US  2020-02-01T19:53:03   \n",
       "1716  1717  02/17/2020 22:00:00  San Antonio, TX      US  2020-02-13T18:53:02   \n",
       "1717  1718  02/17/2020 22:00:00      Seattle, WA      US  2020-02-09T07:03:04   \n",
       "1718  1719  02/17/2020 22:00:00        Tempe, AZ      US  2020-02-01T19:43:03   \n",
       "\n",
       "      Confirmed  Deaths  Recovered  \n",
       "0           1.0     0.0        0.0  \n",
       "1          14.0     0.0        0.0  \n",
       "2           6.0     0.0        0.0  \n",
       "3           1.0     0.0        0.0  \n",
       "4           0.0     0.0        0.0  \n",
       "...         ...     ...        ...  \n",
       "1714        1.0     0.0        0.0  \n",
       "1715        1.0     0.0        0.0  \n",
       "1716        1.0     0.0        0.0  \n",
       "1717        1.0     0.0        1.0  \n",
       "1718        1.0     0.0        0.0  \n",
       "\n",
       "[1719 rows x 8 columns]"
      ]
     },
     "execution_count": 8,
     "metadata": {},
     "output_type": "execute_result"
    }
   ],
   "source": [
    "Covid_df['Province/State'] =Covid_df['Province/State'].fillna('Other') \n",
    "Covid_df "
   ]
  },
  {
   "cell_type": "markdown",
   "metadata": {},
   "source": [
    "## ทำการตรวจสอบว่ามี missing value อีกไหม"
   ]
  },
  {
   "cell_type": "code",
   "execution_count": 9,
   "metadata": {},
   "outputs": [
    {
     "data": {
      "text/plain": [
       "Sno               False\n",
       "Date              False\n",
       "Province/State    False\n",
       "Country           False\n",
       "Last Update       False\n",
       "Confirmed         False\n",
       "Deaths            False\n",
       "Recovered         False\n",
       "dtype: bool"
      ]
     },
     "execution_count": 9,
     "metadata": {},
     "output_type": "execute_result"
    }
   ],
   "source": [
    "Covid_df.isnull().any() "
   ]
  },
  {
   "cell_type": "markdown",
   "metadata": {},
   "source": [
    "## ทำการ Groupby เพื่อดูว่าข้อมูลไหนมีค่าที่เหมือนหรือเเตกต่างกันเพื่อนำข้อไปวิเคราะห์ต่อไปได้"
   ]
  },
  {
   "cell_type": "code",
   "execution_count": 10,
   "metadata": {},
   "outputs": [
    {
     "data": {
      "text/html": [
       "<div>\n",
       "<style scoped>\n",
       "    .dataframe tbody tr th:only-of-type {\n",
       "        vertical-align: middle;\n",
       "    }\n",
       "\n",
       "    .dataframe tbody tr th {\n",
       "        vertical-align: top;\n",
       "    }\n",
       "\n",
       "    .dataframe thead th {\n",
       "        text-align: right;\n",
       "    }\n",
       "</style>\n",
       "<table border=\"1\" class=\"dataframe\">\n",
       "  <thead>\n",
       "    <tr style=\"text-align: right;\">\n",
       "      <th></th>\n",
       "      <th>Country</th>\n",
       "      <th>Sno</th>\n",
       "      <th>Confirmed</th>\n",
       "      <th>Deaths</th>\n",
       "      <th>Recovered</th>\n",
       "    </tr>\n",
       "  </thead>\n",
       "  <tbody>\n",
       "    <tr>\n",
       "      <th>0</th>\n",
       "      <td>Australia</td>\n",
       "      <td>960.928571</td>\n",
       "      <td>3.380952</td>\n",
       "      <td>0.000000</td>\n",
       "      <td>0.833333</td>\n",
       "    </tr>\n",
       "    <tr>\n",
       "      <th>1</th>\n",
       "      <td>Belgium</td>\n",
       "      <td>1224.928571</td>\n",
       "      <td>1.000000</td>\n",
       "      <td>0.000000</td>\n",
       "      <td>0.071429</td>\n",
       "    </tr>\n",
       "    <tr>\n",
       "      <th>2</th>\n",
       "      <td>Brazil</td>\n",
       "      <td>83.000000</td>\n",
       "      <td>0.000000</td>\n",
       "      <td>0.000000</td>\n",
       "      <td>0.000000</td>\n",
       "    </tr>\n",
       "    <tr>\n",
       "      <th>3</th>\n",
       "      <td>Cambodia</td>\n",
       "      <td>948.681818</td>\n",
       "      <td>1.000000</td>\n",
       "      <td>0.000000</td>\n",
       "      <td>0.272727</td>\n",
       "    </tr>\n",
       "    <tr>\n",
       "      <th>4</th>\n",
       "      <td>Canada</td>\n",
       "      <td>1004.627119</td>\n",
       "      <td>1.966102</td>\n",
       "      <td>0.000000</td>\n",
       "      <td>0.101695</td>\n",
       "    </tr>\n",
       "    <tr>\n",
       "      <th>5</th>\n",
       "      <td>China</td>\n",
       "      <td>17.588235</td>\n",
       "      <td>16.147059</td>\n",
       "      <td>0.000000</td>\n",
       "      <td>0.000000</td>\n",
       "    </tr>\n",
       "    <tr>\n",
       "      <th>6</th>\n",
       "      <td>Egypt</td>\n",
       "      <td>1594.500000</td>\n",
       "      <td>1.000000</td>\n",
       "      <td>0.000000</td>\n",
       "      <td>0.000000</td>\n",
       "    </tr>\n",
       "    <tr>\n",
       "      <th>7</th>\n",
       "      <td>Finland</td>\n",
       "      <td>1017.650000</td>\n",
       "      <td>1.000000</td>\n",
       "      <td>0.000000</td>\n",
       "      <td>0.350000</td>\n",
       "    </tr>\n",
       "    <tr>\n",
       "      <th>8</th>\n",
       "      <td>France</td>\n",
       "      <td>841.760000</td>\n",
       "      <td>7.440000</td>\n",
       "      <td>0.120000</td>\n",
       "      <td>0.720000</td>\n",
       "    </tr>\n",
       "    <tr>\n",
       "      <th>9</th>\n",
       "      <td>Germany</td>\n",
       "      <td>933.727273</td>\n",
       "      <td>11.454545</td>\n",
       "      <td>0.000000</td>\n",
       "      <td>0.227273</td>\n",
       "    </tr>\n",
       "    <tr>\n",
       "      <th>10</th>\n",
       "      <td>Hong Kong</td>\n",
       "      <td>801.307692</td>\n",
       "      <td>26.192308</td>\n",
       "      <td>0.538462</td>\n",
       "      <td>0.307692</td>\n",
       "    </tr>\n",
       "    <tr>\n",
       "      <th>11</th>\n",
       "      <td>India</td>\n",
       "      <td>1040.421053</td>\n",
       "      <td>2.631579</td>\n",
       "      <td>0.000000</td>\n",
       "      <td>0.315789</td>\n",
       "    </tr>\n",
       "    <tr>\n",
       "      <th>12</th>\n",
       "      <td>Italy</td>\n",
       "      <td>1041.421053</td>\n",
       "      <td>2.578947</td>\n",
       "      <td>0.000000</td>\n",
       "      <td>0.000000</td>\n",
       "    </tr>\n",
       "    <tr>\n",
       "      <th>13</th>\n",
       "      <td>Ivory Coast</td>\n",
       "      <td>264.000000</td>\n",
       "      <td>0.000000</td>\n",
       "      <td>0.000000</td>\n",
       "      <td>0.000000</td>\n",
       "    </tr>\n",
       "    <tr>\n",
       "      <th>14</th>\n",
       "      <td>Japan</td>\n",
       "      <td>776.703704</td>\n",
       "      <td>21.888889</td>\n",
       "      <td>0.185185</td>\n",
       "      <td>3.370370</td>\n",
       "    </tr>\n",
       "    <tr>\n",
       "      <th>15</th>\n",
       "      <td>Macau</td>\n",
       "      <td>807.807692</td>\n",
       "      <td>8.038462</td>\n",
       "      <td>0.000000</td>\n",
       "      <td>1.038462</td>\n",
       "    </tr>\n",
       "    <tr>\n",
       "      <th>16</th>\n",
       "      <td>Mainland China</td>\n",
       "      <td>791.595506</td>\n",
       "      <td>964.982522</td>\n",
       "      <td>22.357054</td>\n",
       "      <td>94.182272</td>\n",
       "    </tr>\n",
       "    <tr>\n",
       "      <th>17</th>\n",
       "      <td>Malaysia</td>\n",
       "      <td>838.160000</td>\n",
       "      <td>12.120000</td>\n",
       "      <td>0.000000</td>\n",
       "      <td>1.480000</td>\n",
       "    </tr>\n",
       "    <tr>\n",
       "      <th>18</th>\n",
       "      <td>Mexico</td>\n",
       "      <td>82.000000</td>\n",
       "      <td>0.000000</td>\n",
       "      <td>0.000000</td>\n",
       "      <td>0.000000</td>\n",
       "    </tr>\n",
       "    <tr>\n",
       "      <th>19</th>\n",
       "      <td>Nepal</td>\n",
       "      <td>887.833333</td>\n",
       "      <td>1.000000</td>\n",
       "      <td>0.000000</td>\n",
       "      <td>0.250000</td>\n",
       "    </tr>\n",
       "    <tr>\n",
       "      <th>20</th>\n",
       "      <td>Others</td>\n",
       "      <td>1294.727273</td>\n",
       "      <td>196.454545</td>\n",
       "      <td>0.000000</td>\n",
       "      <td>0.000000</td>\n",
       "    </tr>\n",
       "    <tr>\n",
       "      <th>21</th>\n",
       "      <td>Philippines</td>\n",
       "      <td>993.900000</td>\n",
       "      <td>2.350000</td>\n",
       "      <td>0.850000</td>\n",
       "      <td>0.300000</td>\n",
       "    </tr>\n",
       "    <tr>\n",
       "      <th>22</th>\n",
       "      <td>Russia</td>\n",
       "      <td>1078.555556</td>\n",
       "      <td>2.000000</td>\n",
       "      <td>0.000000</td>\n",
       "      <td>0.666667</td>\n",
       "    </tr>\n",
       "    <tr>\n",
       "      <th>23</th>\n",
       "      <td>Singapore</td>\n",
       "      <td>804.961538</td>\n",
       "      <td>30.653846</td>\n",
       "      <td>0.000000</td>\n",
       "      <td>4.692308</td>\n",
       "    </tr>\n",
       "    <tr>\n",
       "      <th>24</th>\n",
       "      <td>South Korea</td>\n",
       "      <td>778.703704</td>\n",
       "      <td>16.444444</td>\n",
       "      <td>0.000000</td>\n",
       "      <td>2.333333</td>\n",
       "    </tr>\n",
       "    <tr>\n",
       "      <th>25</th>\n",
       "      <td>Spain</td>\n",
       "      <td>1083.833333</td>\n",
       "      <td>1.500000</td>\n",
       "      <td>0.000000</td>\n",
       "      <td>0.333333</td>\n",
       "    </tr>\n",
       "    <tr>\n",
       "      <th>26</th>\n",
       "      <td>Sri Lanka</td>\n",
       "      <td>953.500000</td>\n",
       "      <td>1.000000</td>\n",
       "      <td>0.000000</td>\n",
       "      <td>0.454545</td>\n",
       "    </tr>\n",
       "    <tr>\n",
       "      <th>27</th>\n",
       "      <td>Sweden</td>\n",
       "      <td>1090.611111</td>\n",
       "      <td>1.000000</td>\n",
       "      <td>0.000000</td>\n",
       "      <td>0.000000</td>\n",
       "    </tr>\n",
       "    <tr>\n",
       "      <th>28</th>\n",
       "      <td>Taiwan</td>\n",
       "      <td>805.730769</td>\n",
       "      <td>12.307692</td>\n",
       "      <td>0.076923</td>\n",
       "      <td>0.615385</td>\n",
       "    </tr>\n",
       "    <tr>\n",
       "      <th>29</th>\n",
       "      <td>Thailand</td>\n",
       "      <td>777.037037</td>\n",
       "      <td>21.518519</td>\n",
       "      <td>0.000000</td>\n",
       "      <td>6.518519</td>\n",
       "    </tr>\n",
       "    <tr>\n",
       "      <th>30</th>\n",
       "      <td>UK</td>\n",
       "      <td>1073.611111</td>\n",
       "      <td>5.166667</td>\n",
       "      <td>0.000000</td>\n",
       "      <td>1.111111</td>\n",
       "    </tr>\n",
       "    <tr>\n",
       "      <th>31</th>\n",
       "      <td>US</td>\n",
       "      <td>1033.393617</td>\n",
       "      <td>1.329787</td>\n",
       "      <td>0.000000</td>\n",
       "      <td>0.143617</td>\n",
       "    </tr>\n",
       "    <tr>\n",
       "      <th>32</th>\n",
       "      <td>United Arab Emirates</td>\n",
       "      <td>1002.600000</td>\n",
       "      <td>6.300000</td>\n",
       "      <td>0.000000</td>\n",
       "      <td>0.750000</td>\n",
       "    </tr>\n",
       "    <tr>\n",
       "      <th>33</th>\n",
       "      <td>Vietnam</td>\n",
       "      <td>811.653846</td>\n",
       "      <td>8.653846</td>\n",
       "      <td>0.000000</td>\n",
       "      <td>2.192308</td>\n",
       "    </tr>\n",
       "  </tbody>\n",
       "</table>\n",
       "</div>"
      ],
      "text/plain": [
       "                 Country          Sno   Confirmed     Deaths  Recovered\n",
       "0              Australia   960.928571    3.380952   0.000000   0.833333\n",
       "1                Belgium  1224.928571    1.000000   0.000000   0.071429\n",
       "2                 Brazil    83.000000    0.000000   0.000000   0.000000\n",
       "3               Cambodia   948.681818    1.000000   0.000000   0.272727\n",
       "4                 Canada  1004.627119    1.966102   0.000000   0.101695\n",
       "5                  China    17.588235   16.147059   0.000000   0.000000\n",
       "6                  Egypt  1594.500000    1.000000   0.000000   0.000000\n",
       "7                Finland  1017.650000    1.000000   0.000000   0.350000\n",
       "8                 France   841.760000    7.440000   0.120000   0.720000\n",
       "9                Germany   933.727273   11.454545   0.000000   0.227273\n",
       "10             Hong Kong   801.307692   26.192308   0.538462   0.307692\n",
       "11                 India  1040.421053    2.631579   0.000000   0.315789\n",
       "12                 Italy  1041.421053    2.578947   0.000000   0.000000\n",
       "13           Ivory Coast   264.000000    0.000000   0.000000   0.000000\n",
       "14                 Japan   776.703704   21.888889   0.185185   3.370370\n",
       "15                 Macau   807.807692    8.038462   0.000000   1.038462\n",
       "16        Mainland China   791.595506  964.982522  22.357054  94.182272\n",
       "17              Malaysia   838.160000   12.120000   0.000000   1.480000\n",
       "18                Mexico    82.000000    0.000000   0.000000   0.000000\n",
       "19                 Nepal   887.833333    1.000000   0.000000   0.250000\n",
       "20                Others  1294.727273  196.454545   0.000000   0.000000\n",
       "21           Philippines   993.900000    2.350000   0.850000   0.300000\n",
       "22                Russia  1078.555556    2.000000   0.000000   0.666667\n",
       "23             Singapore   804.961538   30.653846   0.000000   4.692308\n",
       "24           South Korea   778.703704   16.444444   0.000000   2.333333\n",
       "25                 Spain  1083.833333    1.500000   0.000000   0.333333\n",
       "26             Sri Lanka   953.500000    1.000000   0.000000   0.454545\n",
       "27                Sweden  1090.611111    1.000000   0.000000   0.000000\n",
       "28                Taiwan   805.730769   12.307692   0.076923   0.615385\n",
       "29              Thailand   777.037037   21.518519   0.000000   6.518519\n",
       "30                    UK  1073.611111    5.166667   0.000000   1.111111\n",
       "31                    US  1033.393617    1.329787   0.000000   0.143617\n",
       "32  United Arab Emirates  1002.600000    6.300000   0.000000   0.750000\n",
       "33               Vietnam   811.653846    8.653846   0.000000   2.192308"
      ]
     },
     "execution_count": 10,
     "metadata": {},
     "output_type": "execute_result"
    }
   ],
   "source": [
    "Covid_df1 = Covid_df.groupby('Country').mean().reset_index()\n",
    "Covid_df1"
   ]
  },
  {
   "cell_type": "markdown",
   "metadata": {},
   "source": [
    "## เลือกข้อมูลที่จะนำไปสร้างกราฟ"
   ]
  },
  {
   "cell_type": "code",
   "execution_count": 11,
   "metadata": {},
   "outputs": [
    {
     "data": {
      "text/html": [
       "<div>\n",
       "<style scoped>\n",
       "    .dataframe tbody tr th:only-of-type {\n",
       "        vertical-align: middle;\n",
       "    }\n",
       "\n",
       "    .dataframe tbody tr th {\n",
       "        vertical-align: top;\n",
       "    }\n",
       "\n",
       "    .dataframe thead th {\n",
       "        text-align: right;\n",
       "    }\n",
       "</style>\n",
       "<table border=\"1\" class=\"dataframe\">\n",
       "  <thead>\n",
       "    <tr style=\"text-align: right;\">\n",
       "      <th></th>\n",
       "      <th>Country</th>\n",
       "      <th>Sno</th>\n",
       "      <th>Confirmed</th>\n",
       "      <th>Deaths</th>\n",
       "      <th>Recovered</th>\n",
       "    </tr>\n",
       "  </thead>\n",
       "  <tbody>\n",
       "    <tr>\n",
       "      <th>20</th>\n",
       "      <td>Others</td>\n",
       "      <td>1294.727273</td>\n",
       "      <td>196.454545</td>\n",
       "      <td>0.00</td>\n",
       "      <td>0.000000</td>\n",
       "    </tr>\n",
       "    <tr>\n",
       "      <th>21</th>\n",
       "      <td>Philippines</td>\n",
       "      <td>993.900000</td>\n",
       "      <td>2.350000</td>\n",
       "      <td>0.85</td>\n",
       "      <td>0.300000</td>\n",
       "    </tr>\n",
       "    <tr>\n",
       "      <th>22</th>\n",
       "      <td>Russia</td>\n",
       "      <td>1078.555556</td>\n",
       "      <td>2.000000</td>\n",
       "      <td>0.00</td>\n",
       "      <td>0.666667</td>\n",
       "    </tr>\n",
       "    <tr>\n",
       "      <th>23</th>\n",
       "      <td>Singapore</td>\n",
       "      <td>804.961538</td>\n",
       "      <td>30.653846</td>\n",
       "      <td>0.00</td>\n",
       "      <td>4.692308</td>\n",
       "    </tr>\n",
       "    <tr>\n",
       "      <th>24</th>\n",
       "      <td>South Korea</td>\n",
       "      <td>778.703704</td>\n",
       "      <td>16.444444</td>\n",
       "      <td>0.00</td>\n",
       "      <td>2.333333</td>\n",
       "    </tr>\n",
       "  </tbody>\n",
       "</table>\n",
       "</div>"
      ],
      "text/plain": [
       "        Country          Sno   Confirmed  Deaths  Recovered\n",
       "20       Others  1294.727273  196.454545    0.00   0.000000\n",
       "21  Philippines   993.900000    2.350000    0.85   0.300000\n",
       "22       Russia  1078.555556    2.000000    0.00   0.666667\n",
       "23    Singapore   804.961538   30.653846    0.00   4.692308\n",
       "24  South Korea   778.703704   16.444444    0.00   2.333333"
      ]
     },
     "execution_count": 11,
     "metadata": {},
     "output_type": "execute_result"
    }
   ],
   "source": [
    "Covid_df2=Covid_df1.iloc[20:25,:] \n",
    "Covid_df2"
   ]
  },
  {
   "cell_type": "markdown",
   "metadata": {},
   "source": [
    "# สร้างกราฟตามความต้องการ"
   ]
  },
  {
   "cell_type": "markdown",
   "metadata": {},
   "source": [
    "## เรียกคำสั่งที่ใช้สำหรับการสร้างกราฟ"
   ]
  },
  {
   "cell_type": "code",
   "execution_count": 12,
   "metadata": {},
   "outputs": [],
   "source": [
    "import pandas as pd\n",
    "from matplotlib import pyplot as plt"
   ]
  },
  {
   "cell_type": "code",
   "execution_count": 13,
   "metadata": {},
   "outputs": [
    {
     "data": {
      "text/plain": [
       "Text(0, 0.5, 'Deaths')"
      ]
     },
     "execution_count": 13,
     "metadata": {},
     "output_type": "execute_result"
    },
    {
     "data": {
      "image/png": "[encoded data removed]",
      "text/plain": [
       "<Figure size 432x288 with 1 Axes>"
      ]
     },
     "metadata": {
      "needs_background": "light"
     },
     "output_type": "display_data"
    }
   ],
   "source": [
    "plt.bar([1,2,3,4,5],Covid_df2.iloc[:,1],tick_label=Covid_df2.iloc[:,0],color = 'r')\n",
    "plt.title(u'กราฟเปรียบเทียบจำนวนผู้ที่ตายจากไวรัสโคโรน่าปี2019',fontname='Tahoma',fontsize='13')\n",
    "plt.xlabel('Country') \n",
    "plt.ylabel('Deaths')"
   ]
  },
  {
   "cell_type": "code",
   "execution_count": 14,
   "metadata": {},
   "outputs": [
    {
     "data": {
      "text/plain": [
       "Text(0, 0.5, 'Confirmed')"
      ]
     },
     "execution_count": 14,
     "metadata": {},
     "output_type": "execute_result"
    },
    {
     "data": {
      "image/png": "[encoded data removed]",
      "text/plain": [
       "<Figure size 432x288 with 1 Axes>"
      ]
     },
     "metadata": {
      "needs_background": "light"
     },
     "output_type": "display_data"
    }
   ],
   "source": [
    "plt.bar([1,2,3,4,5],Covid_df2.iloc[:,2],tick_label=Covid_df2.iloc[:,0],color = 'y')\n",
    "plt.title(u'กราฟเปรียบเทียบจำนวนผู้ที่ติดเชื้อจากไวรัสโคโรน่าปี2019',fontname='Tahoma',fontsize='13')\n",
    "plt.xlabel('Country') \n",
    "plt.ylabel('Confirmed')"
   ]
  },
  {
   "cell_type": "code",
   "execution_count": 15,
   "metadata": {},
   "outputs": [
    {
     "data": {
      "text/plain": [
       "Text(0, 0.5, 'Recovered')"
      ]
     },
     "execution_count": 15,
     "metadata": {},
     "output_type": "execute_result"
    },
    {
     "data": {
      "image/png": "[encoded data removed]",
      "text/plain": [
       "<Figure size 432x288 with 1 Axes>"
      ]
     },
     "metadata": {
      "needs_background": "light"
     },
     "output_type": "display_data"
    }
   ],
   "source": [
    "plt.bar([1,2,3,4,5],Covid_df2.iloc[:,4],tick_label=Covid_df2.iloc[:,0],color = 'b')\n",
    "plt.title(u'กราฟเปรียบเทียบจำนวนผู้ที่รักษาหาายจากเชื้อจากไวรัสโคโรน่าปี2019',fontname='Tahoma',fontsize='13')\n",
    "plt.xlabel('Country') \n",
    "plt.ylabel('Recovered')"
   ]
  },
  {
   "cell_type": "code",
   "execution_count": 16,
   "metadata": {},
   "outputs": [
    {
     "data": {
      "text/plain": [
       "<matplotlib.legend.Legend at 0x1a68088b288>"
      ]
     },
     "execution_count": 16,
     "metadata": {},
     "output_type": "execute_result"
    },
    {
     "data": {
      "image/png": "[encoded data removed]",
      "text/plain": [
       "<Figure size 432x288 with 1 Axes>"
      ]
     },
     "metadata": {
      "needs_background": "light"
     },
     "output_type": "display_data"
    }
   ],
   "source": [
    "plt.bar([1-(0.35),2-(0.35),3-(0.35),4-(0.35),5-(0.35)],Covid_df2.iloc[:,1],width=0.35,tick_label=Covid_df2.iloc[:,-1],color = 'r', label = 'Deaths')\n",
    "plt.bar([1+(0.35),2+(0.35),3+(0.35),4+(0.35),5+(0.35)],Covid_df2.iloc[:,1],width=0.35,tick_label=Covid_df2.iloc[:,-1],color = 'y', label = 'Recovered')\n",
    "plt.title(u'กราฟแท่งเปรียบเทียบผู้เสียชีวิตกับผู้ได้รับการรักษา Covid -19',fontname='Tahoma',fontsize='16')\n",
    "plt.legend() "
   ]
  },
  {
   "cell_type": "code",
   "execution_count": 17,
   "metadata": {},
   "outputs": [],
   "source": [
    "import squarify"
   ]
  },
  {
   "cell_type": "code",
   "execution_count": 18,
   "metadata": {},
   "outputs": [],
   "source": [
    "volume = [196.45,2.35,2.00,30.65,16.44] # ตัวเลขปริมาณ"
   ]
  },
  {
   "cell_type": "code",
   "execution_count": 19,
   "metadata": {},
   "outputs": [],
   "source": [
    "labels = ['Otherss\\n: 196.45', 'Philippines\\n : 2.35',\n",
    "          'Russia\\n volume: 2.00', 'Singapore\\n :30.65',\n",
    "          'South Korea\\n :16.44']\n",
    "color_list = ['#0f7216', '#b2790c', '#ffe9a3',\n",
    "              '#f9d4d4', '#d35158', '#ea3033']"
   ]
  },
  {
   "cell_type": "code",
   "execution_count": 20,
   "metadata": {},
   "outputs": [
    {
     "data": {
      "text/plain": [
       "<matplotlib.axes._subplots.AxesSubplot at 0x1a6808ee208>"
      ]
     },
     "execution_count": 20,
     "metadata": {},
     "output_type": "execute_result"
    },
    {
     "data": {
      "image/png": "[encoded data removed]",
      "text/plain": [
       "<Figure size 432x288 with 1 Axes>"
      ]
     },
     "metadata": {
      "needs_background": "light"
     },
     "output_type": "display_data"
    }
   ],
   "source": [
    "squarify.plot(sizes=volume, label=labels,\n",
    "              color=color_list, alpha=0.7)"
   ]
  },
  {
   "cell_type": "code",
   "execution_count": null,
   "metadata": {},
   "outputs": [],
   "source": []
  }
 ],
 "metadata": {
  "kernelspec": {
   "display_name": "Python 3",
   "language": "python",
   "name": "python3"
  },
  "language_info": {
   "codemirror_mode": {
    "name": "ipython",
    "version": 3
   },
   "file_extension": ".py",
   "mimetype": "text/x-python",
   "name": "python",
   "nbconvert_exporter": "python",
   "pygments_lexer": "ipython3",
   "version": "3.7.4"
  }
 },
 "nbformat": 4,
 "nbformat_minor": 2
}
