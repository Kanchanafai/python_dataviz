{
 "cells": [
  {
   "cell_type": "markdown",
   "metadata": {},
   "source": [
    "# Function ฟังก์ชั่น คือ ช่วยให้เราไม่ต้องเขียนโค้ด\n",
    "### print ชื่อ XXX นามสกุล YYY รหัส ZZZ\n",
    "### print เกรด วิชา Stat 1 >>> AAA"
   ]
  },
  {
   "cell_type": "code",
   "execution_count": 2,
   "metadata": {},
   "outputs": [
    {
     "name": "stdout",
     "output_type": "stream",
     "text": [
      "ชื่อ กาญจนา นามสกุล พร้อมพรั่ง รหัส 603021856-0\n"
     ]
    }
   ],
   "source": [
    "a = 'ชื่อ กาญจนา นามสกุล พร้อมพรั่ง รหัส 603021856-0'\n",
    "print (a)"
   ]
  },
  {
   "cell_type": "code",
   "execution_count": 3,
   "metadata": {},
   "outputs": [
    {
     "name": "stdout",
     "output_type": "stream",
     "text": [
      "ชื่อ กาญจนา นามสกุล พร้อมพรั่ง รหัส 603021856-0\n"
     ]
    }
   ],
   "source": [
    "name = 'กาญจนา'\n",
    "surname = 'พร้อมพรั่ง'\n",
    "ID = '603021856-0'\n",
    "\n",
    "b = f'ชื่อ {name} นามสกุล {surname} รหัส {ID}'\n",
    "print (b)"
   ]
  },
  {
   "cell_type": "markdown",
   "metadata": {},
   "source": [
    "สามารถเปลี่ยนชื่อ นามสกุล รหัสได้ แต่ยังไม่ช่วยเราทำงานลดลง\n",
    "เลยคิดค้นฟังก์ชั่นขึ้นมา โดยมี input output เข้ามา วิธีเขียนฟังก์ชั่นเขียนด้วย def การกำหนดนิยามของฟังก์ชั่น\n",
    "หน้าตาของฟังก์ชั่น"
   ]
  },
  {
   "cell_type": "markdown",
   "metadata": {},
   "source": [
    " # Function template\n",
    " ` ` `python\n",
    "def function_name (Input) : \n",
    "    do_something\n",
    "    return Output\n",
    "    ` ` `\n",
    "    สิ่งที่ควรมี และสามารถลดคำสั่งได้"
   ]
  },
  {
   "cell_type": "code",
   "execution_count": 4,
   "metadata": {},
   "outputs": [],
   "source": [
    "def print_line1 (name1, surname1,ID1) : \n",
    "    st = f'ชื่อ{name1} นามสกุล {surname1} รหัส {ID1}'\n",
    "    return st"
   ]
  },
  {
   "cell_type": "code",
   "execution_count": 5,
   "metadata": {},
   "outputs": [
    {
     "name": "stdout",
     "output_type": "stream",
     "text": [
      "ชื่อกาญจนา นามสกุล ประสาคุณ รหัส 603021855-2\n"
     ]
    }
   ],
   "source": [
    "print (print_line1('กาญจนา','ประสาคุณ','603021855-2'))"
   ]
  },
  {
   "cell_type": "code",
   "execution_count": 6,
   "metadata": {},
   "outputs": [],
   "source": [
    "def print_2line (name1, surname1,ID1,grade) : \n",
    "    st = f'ชื่อ{name1} นามสกุล {surname1} รหัส {ID1}'\n",
    "    print (st)\n",
    "    st2 = f'เกรดวิชา stat >>> {grade}'\n",
    "    print(st2)"
   ]
  },
  {
   "cell_type": "code",
   "execution_count": 7,
   "metadata": {},
   "outputs": [
    {
     "name": "stdout",
     "output_type": "stream",
     "text": [
      "ชื่อกาญจนา นามสกุล ประสาคุณ รหัส 603021855-2\n",
      "เกรดวิชา stat >>> A\n"
     ]
    }
   ],
   "source": [
    "print_2line('กาญจนา','ประสาคุณ','603021855-2','A')"
   ]
  },
  {
   "cell_type": "markdown",
   "metadata": {},
   "source": [
    "# HW print ชื่อเพื่อน"
   ]
  },
  {
   "cell_type": "code",
   "execution_count": 8,
   "metadata": {},
   "outputs": [],
   "source": [
    "def print_2line (name, surname,ID,grade) : \n",
    "    st = f'ชื่อ{name} นามสกุล {surname} รหัส {ID}'\n",
    "    print (st)\n",
    "    st2 = f'เกรดวิชา stat >>> {grade}'\n",
    "    print(st2)"
   ]
  },
  {
   "cell_type": "code",
   "execution_count": 9,
   "metadata": {},
   "outputs": [
    {
     "name": "stdout",
     "output_type": "stream",
     "text": [
      "ชื่อกาญจนา นามสกุล พร้อมพรั่ง รหัส 603021856-0\n",
      "เกรดวิชา stat >>> B\n"
     ]
    }
   ],
   "source": [
    "print_2line('กาญจนา','พร้อมพรั่ง','603021856-0','B')"
   ]
  },
  {
   "cell_type": "code",
   "execution_count": 10,
   "metadata": {},
   "outputs": [],
   "source": [
    "def print_2line (name2, surname2,ID2,grade) : \n",
    "    st = f'ชื่อ{name2} นามสกุล {surname2} รหัส {ID2}'\n",
    "    print (st)\n",
    "    st2 = f'เกรดวิชา stat >>> {grade}'\n",
    "    print(st2)"
   ]
  },
  {
   "cell_type": "code",
   "execution_count": 11,
   "metadata": {},
   "outputs": [
    {
     "name": "stdout",
     "output_type": "stream",
     "text": [
      "ชื่อนิรชร นามสกุล บรรณาสาร รหัส 603020474-9\n",
      "เกรดวิชา stat >>> A\n"
     ]
    }
   ],
   "source": [
    "print_2line('นิรชร','บรรณาสาร','603020474-9','A')"
   ]
  },
  {
   "cell_type": "code",
   "execution_count": 12,
   "metadata": {},
   "outputs": [],
   "source": [
    "def print_2line (name3, surname3,ID3,grade) : \n",
    "    st = f'ชื่อ{name3} นามสกุล {surname3} รหัส {ID3}'\n",
    "    print (st)\n",
    "    st2 = f'เกรดวิชา stat >>> {grade}'\n",
    "    print(st2)"
   ]
  },
  {
   "cell_type": "code",
   "execution_count": 13,
   "metadata": {},
   "outputs": [
    {
     "name": "stdout",
     "output_type": "stream",
     "text": [
      "ชื่อกมลวรรณ นามสกุล มีป้อง รหัส 603021851-0\n",
      "เกรดวิชา stat >>> C\n"
     ]
    }
   ],
   "source": [
    "print_2line('กมลวรรณ','มีป้อง','603021851-0','C')"
   ]
  },
  {
   "cell_type": "markdown",
   "metadata": {},
   "source": [
    "IndentationError คือ วรรคผิด"
   ]
  },
  {
   "cell_type": "markdown",
   "metadata": {},
   "source": [
    "# 3. ฟังก์ชั่นที่ไม่มี input"
   ]
  },
  {
   "cell_type": "code",
   "execution_count": 14,
   "metadata": {},
   "outputs": [],
   "source": [
    "def two_x_three():\n",
    "    x = 2*3\n",
    "    return x"
   ]
  },
  {
   "cell_type": "code",
   "execution_count": 15,
   "metadata": {},
   "outputs": [
    {
     "data": {
      "text/plain": [
       "6"
      ]
     },
     "execution_count": 15,
     "metadata": {},
     "output_type": "execute_result"
    }
   ],
   "source": [
    "two_x_three ()"
   ]
  },
  {
   "cell_type": "markdown",
   "metadata": {},
   "source": [
    "### ฟังก์ชั่นที่มีตัว Input เป็น default"
   ]
  },
  {
   "cell_type": "code",
   "execution_count": 16,
   "metadata": {},
   "outputs": [],
   "source": [
    "def print_2line_default (name1, surname1,ID1,grade='F') : \n",
    "    st = f'ชื่อ{name1} นามสกุล {surname1} รหัส {ID1}'\n",
    "    print (st)\n",
    "    st2 = f'เกรดวิชา stat >>> {grade}'\n",
    "    print(st2)"
   ]
  },
  {
   "cell_type": "code",
   "execution_count": 17,
   "metadata": {},
   "outputs": [
    {
     "name": "stdout",
     "output_type": "stream",
     "text": [
      "ชื่อกาญจนา นามสกุล ประสาคุณ รหัส 603021855-2\n",
      "เกรดวิชา stat >>> F\n"
     ]
    }
   ],
   "source": [
    "print_2line_default ('กาญจนา','ประสาคุณ','603021855-2')"
   ]
  },
  {
   "cell_type": "markdown",
   "metadata": {},
   "source": [
    "เขียนเกรด เท่ากับ F แปลว่า ฟังก์ชั่นนี้ถ้าเราไม่ใส่เกรดให้ มันจะใส่ค่าdefaultให้ คือไม่ได้ไปเปลี่ยนแปลงอะไรมัน"
   ]
  },
  {
   "cell_type": "code",
   "execution_count": 18,
   "metadata": {},
   "outputs": [
    {
     "name": "stdout",
     "output_type": "stream",
     "text": [
      "ชื่อกาญจนา นามสกุล ประสาคุณ รหัส 603021855-2\n",
      "เกรดวิชา stat >>> A+\n"
     ]
    }
   ],
   "source": [
    "print_2line_default ('กาญจนา','ประสาคุณ','603021855-2','A+')"
   ]
  },
  {
   "cell_type": "code",
   "execution_count": 19,
   "metadata": {},
   "outputs": [
    {
     "name": "stdout",
     "output_type": "stream",
     "text": [
      "ชื่อประสาคุณ นามสกุล กาญจนา รหัส 603021855-2\n",
      "เกรดวิชา stat >>> F\n"
     ]
    }
   ],
   "source": [
    "print_2line_default (surname1= 'กาญจนา', name1='ประสาคุณ', ID1='603021855-2')"
   ]
  },
  {
   "cell_type": "markdown",
   "metadata": {},
   "source": [
    "## Loop คือการวนซ้ำ\n"
   ]
  },
  {
   "cell_type": "markdown",
   "metadata": {},
   "source": [
    "```Python\n",
    "for each_member in listA:\n",
    "    do something\n",
    "```"
   ]
  },
  {
   "cell_type": "code",
   "execution_count": 20,
   "metadata": {},
   "outputs": [
    {
     "name": "stdout",
     "output_type": "stream",
     "text": [
      "1\n",
      "2\n",
      "3\n"
     ]
    }
   ],
   "source": [
    "for i in [1,2,3]:\n",
    "    print(i)"
   ]
  },
  {
   "cell_type": "markdown",
   "metadata": {},
   "source": [
    "for วนลูปที่อยู่ใน listนี้ เราจะเอาสมาชิกที่อยู่ในนี้มาแทนค่า i"
   ]
  },
  {
   "cell_type": "code",
   "execution_count": 21,
   "metadata": {},
   "outputs": [
    {
     "name": "stdout",
     "output_type": "stream",
     "text": [
      "T -> /\n",
      " \n",
      "h -> /\n",
      " \n",
      "a -> /\n",
      " \n",
      "n -> /\n",
      " \n",
      "a -> /\n",
      " \n",
      "p -> /\n",
      " \n",
      "o -> /\n",
      " \n",
      "n -> /\n",
      " \n",
      "g -> /\n",
      " \n"
     ]
    }
   ],
   "source": [
    "for i in 'Thanapong':\n",
    "    print(f'{i} -> /')\n",
    "    print (' ')"
   ]
  },
  {
   "cell_type": "markdown",
   "metadata": {},
   "source": [
    "บรรทัดแรก ให้iแทนสมาชิกแต่ละตัว\n",
    "คำสั่งแรก คือ ให้ print เครื่องหมาย\n",
    "คำสั่งที่2 คือ ให้มันprint เว้นวรรค"
   ]
  },
  {
   "cell_type": "markdown",
   "metadata": {},
   "source": [
    "## 1 สร้าง list ชื่อเพื่อนที่อยู่ในแถวยาวเดียวกัน\n",
    "## 1.5 วนลูป print ประโยคว่า XXX(เรา) YYY(กริยา) ZZZ(เพื่อน) ทุกคน\n",
    "## 2 วนลูป เรียก function โดยเปลี่ยนชื่อเพื่อนไปเรื่อยๆ"
   ]
  },
  {
   "cell_type": "code",
   "execution_count": 22,
   "metadata": {},
   "outputs": [],
   "source": [
    "friend_list = ['Pang','Biw','Lake','Pop','Fang','Ping']"
   ]
  },
  {
   "cell_type": "code",
   "execution_count": 23,
   "metadata": {},
   "outputs": [],
   "source": [
    "def print_feeling (Fai,feeling,friend):\n",
    "    print(f'{Fai} {feeling} {friend}')"
   ]
  },
  {
   "cell_type": "code",
   "execution_count": 24,
   "metadata": {},
   "outputs": [
    {
     "name": "stdout",
     "output_type": "stream",
     "text": [
      "Fai love Pang\n"
     ]
    }
   ],
   "source": [
    "print_feeling ('Fai','love','Pang')"
   ]
  },
  {
   "cell_type": "code",
   "execution_count": 25,
   "metadata": {},
   "outputs": [
    {
     "name": "stdout",
     "output_type": "stream",
     "text": [
      "Fai love Pang\n",
      "Fai love Biw\n",
      "Fai love Lake\n",
      "Fai love Pop\n",
      "Fai love Fang\n",
      "Fai love Ping\n"
     ]
    }
   ],
   "source": [
    "for f in friend_list:\n",
    "    print_feeling('Fai','love',f)"
   ]
  },
  {
   "cell_type": "markdown",
   "metadata": {},
   "source": [
    "## loop in loop\n",
    "loop สามารถซ้อน loop ได้ อยากให้ชื่อข้างหน้า ข้างหลังวนซ้ำ"
   ]
  },
  {
   "cell_type": "code",
   "execution_count": 26,
   "metadata": {},
   "outputs": [
    {
     "name": "stdout",
     "output_type": "stream",
     "text": [
      "Pang รัก Pang\n",
      "Pang รัก Biw\n",
      "Pang รัก Lake\n",
      "Pang รัก Pop\n",
      "Pang รัก Fang\n",
      "Pang รัก Ping\n",
      "Biw รัก Pang\n",
      "Biw รัก Biw\n",
      "Biw รัก Lake\n",
      "Biw รัก Pop\n",
      "Biw รัก Fang\n",
      "Biw รัก Ping\n",
      "Lake รัก Pang\n",
      "Lake รัก Biw\n",
      "Lake รัก Lake\n",
      "Lake รัก Pop\n",
      "Lake รัก Fang\n",
      "Lake รัก Ping\n",
      "Pop รัก Pang\n",
      "Pop รัก Biw\n",
      "Pop รัก Lake\n",
      "Pop รัก Pop\n",
      "Pop รัก Fang\n",
      "Pop รัก Ping\n",
      "Fang รัก Pang\n",
      "Fang รัก Biw\n",
      "Fang รัก Lake\n",
      "Fang รัก Pop\n",
      "Fang รัก Fang\n",
      "Fang รัก Ping\n",
      "Ping รัก Pang\n",
      "Ping รัก Biw\n",
      "Ping รัก Lake\n",
      "Ping รัก Pop\n",
      "Ping รัก Fang\n",
      "Ping รัก Ping\n"
     ]
    }
   ],
   "source": [
    "for name1 in friend_list:\n",
    "    for name2 in friend_list:\n",
    "       print_feeling(name1,'รัก',name2)"
   ]
  },
  {
   "cell_type": "code",
   "execution_count": null,
   "metadata": {},
   "outputs": [],
   "source": []
  },
  {
   "cell_type": "markdown",
   "metadata": {},
   "source": [
    "## loop in function"
   ]
  },
  {
   "cell_type": "code",
   "execution_count": 27,
   "metadata": {},
   "outputs": [],
   "source": [
    "def print_feeling(Fai,feeling,friends):\n",
    "    for friend in friends:\n",
    "        print(f' {Fai} {feeling} {friend}')"
   ]
  },
  {
   "cell_type": "code",
   "execution_count": 28,
   "metadata": {},
   "outputs": [
    {
     "name": "stdout",
     "output_type": "stream",
     "text": [
      " Fai love Pang\n",
      " Fai love Biw\n",
      " Fai love Lake\n",
      " Fai love Pop\n",
      " Fai love Fang\n",
      " Fai love Ping\n"
     ]
    }
   ],
   "source": [
    "print_feeling ('Fai','love',friend_list)"
   ]
  },
  {
   "cell_type": "markdown",
   "metadata": {},
   "source": [
    "ที่ทำเอง"
   ]
  },
  {
   "cell_type": "code",
   "execution_count": 29,
   "metadata": {},
   "outputs": [
    {
     "name": "stdout",
     "output_type": "stream",
     "text": [
      "Pang\n",
      "Biw\n",
      "Lake\n",
      "Pop\n",
      "Fang\n",
      "Ping\n"
     ]
    }
   ],
   "source": [
    "for i in ['Pang','Biw','Lake','Pop','Fang','Ping']:\n",
    "    print (i)"
   ]
  },
  {
   "cell_type": "code",
   "execution_count": 30,
   "metadata": {},
   "outputs": [
    {
     "name": "stdout",
     "output_type": "stream",
     "text": [
      " Fai love Pang \n",
      " Fai love Biw \n",
      " Fai love Lake \n",
      " Fai love Pop \n",
      " Fai love Fang \n",
      " Fai love Ping \n"
     ]
    }
   ],
   "source": [
    "for i in 'Pang','Biw','Lake','Pop','Fang','Ping':\n",
    "     print(f' Fai love {i} ')"
   ]
  },
  {
   "cell_type": "markdown",
   "metadata": {},
   "source": [
    "## looping in dict"
   ]
  },
  {
   "cell_type": "code",
   "execution_count": 31,
   "metadata": {},
   "outputs": [
    {
     "data": {
      "text/plain": [
       "{'พันทิพา': 'B', 'ศุภนิตา': 'C', 'ปนัดดา': 'A', 'ทรงกลด': 'F'}"
      ]
     },
     "execution_count": 31,
     "metadata": {},
     "output_type": "execute_result"
    }
   ],
   "source": [
    "name_grade = {'พันทิพา' : 'B','ศุภนิตา':'C','ปนัดดา':'A','ทรงกลด':'F'}\n",
    "name_grade"
   ]
  },
  {
   "cell_type": "code",
   "execution_count": 32,
   "metadata": {},
   "outputs": [
    {
     "data": {
      "text/plain": [
       "'A'"
      ]
     },
     "execution_count": 32,
     "metadata": {},
     "output_type": "execute_result"
    }
   ],
   "source": [
    "name_grade['ปนัดดา']"
   ]
  },
  {
   "cell_type": "code",
   "execution_count": 33,
   "metadata": {},
   "outputs": [
    {
     "data": {
      "text/plain": [
       "dict_keys(['พันทิพา', 'ศุภนิตา', 'ปนัดดา', 'ทรงกลด'])"
      ]
     },
     "execution_count": 33,
     "metadata": {},
     "output_type": "execute_result"
    }
   ],
   "source": [
    "name_grade.keys()"
   ]
  },
  {
   "cell_type": "code",
   "execution_count": 34,
   "metadata": {},
   "outputs": [
    {
     "name": "stdout",
     "output_type": "stream",
     "text": [
      "พันทิพา ได้เกรด B\n",
      "ศุภนิตา ได้เกรด C\n",
      "ปนัดดา ได้เกรด A\n",
      "ทรงกลด ได้เกรด F\n"
     ]
    }
   ],
   "source": [
    "for i in name_grade.keys():\n",
    "    print(f'{i} ได้เกรด {name_grade[i]}')"
   ]
  },
  {
   "cell_type": "markdown",
   "metadata": {},
   "source": [
    "# conditional"
   ]
  },
  {
   "cell_type": "markdown",
   "metadata": {},
   "source": [
    "## ในการจะเขียนอีฟได้ต้องใช้เครื่องหมาย เป็นไปตามเครื่องหมายบอกหรือปล่าว\n",
    "## ==หน้าเท่ากับหลังหรือป่าว เช็คว่าเท่ากัน , !=หน้าเท่ากับหลังหรือป่าว เช็คว่าไม่เท่ากัน , \n",
    "## >= ข้างหน้ามากกว่าหรือเท่ากับข้างหลังให้ตอบ True , <= ข้างหน้าน้อยกว่าหลังตอบ True,\n",
    "## <,> น้อยกว่า มากกว่าเช็คว่าจะผ่านcondition หรือปล่าว"
   ]
  },
  {
   "cell_type": "markdown",
   "metadata": {},
   "source": [
    "```Python\n",
    "if condition1:\n",
    "    do something\n",
    "elif  condition2:\n",
    "    do another thing\n",
    "else:\n",
    "    do ...\n",
    "```\n"
   ]
  },
  {
   "cell_type": "markdown",
   "metadata": {},
   "source": [
    " if condition1:\n",
    "    do somethin เงื่อนไขแรก\n",
    "ถ้าไม่ผ่านเงื่อไขแรกจะมาทำเงื่อนไขที่2 เงื่อนไขถัดไป คือ elif \n",
    "เงื่อนไขที่ไม่ผ่านทั้งหมด else:\n",
    "    do ..."
   ]
  },
  {
   "cell_type": "code",
   "execution_count": 35,
   "metadata": {},
   "outputs": [
    {
     "name": "stdout",
     "output_type": "stream",
     "text": [
      " Pang รัก B\n",
      " Pang รัก i\n",
      " Pang รัก w\n",
      " Pang รัก L\n",
      " Pang รัก a\n",
      " Pang รัก k\n",
      " Pang รัก e\n",
      " Pang รัก P\n",
      " Pang รัก o\n",
      " Pang รัก p\n",
      " Pang รัก F\n",
      " Pang รัก a\n",
      " Pang รัก n\n",
      " Pang รัก g\n",
      " Pang รัก P\n",
      " Pang รัก i\n",
      " Pang รัก n\n",
      " Pang รัก g\n",
      " Biw รัก P\n",
      " Biw รัก a\n",
      " Biw รัก n\n",
      " Biw รัก g\n",
      " Biw รัก L\n",
      " Biw รัก a\n",
      " Biw รัก k\n",
      " Biw รัก e\n",
      " Biw รัก P\n",
      " Biw รัก o\n",
      " Biw รัก p\n",
      " Biw รัก F\n",
      " Biw รัก a\n",
      " Biw รัก n\n",
      " Biw รัก g\n",
      " Biw รัก P\n",
      " Biw รัก i\n",
      " Biw รัก n\n",
      " Biw รัก g\n",
      " Lake รัก P\n",
      " Lake รัก a\n",
      " Lake รัก n\n",
      " Lake รัก g\n",
      " Lake รัก B\n",
      " Lake รัก i\n",
      " Lake รัก w\n",
      " Lake รัก P\n",
      " Lake รัก o\n",
      " Lake รัก p\n",
      " Lake รัก F\n",
      " Lake รัก a\n",
      " Lake รัก n\n",
      " Lake รัก g\n",
      " Lake รัก P\n",
      " Lake รัก i\n",
      " Lake รัก n\n",
      " Lake รัก g\n",
      " Pop รัก P\n",
      " Pop รัก a\n",
      " Pop รัก n\n",
      " Pop รัก g\n",
      " Pop รัก B\n",
      " Pop รัก i\n",
      " Pop รัก w\n",
      " Pop รัก L\n",
      " Pop รัก a\n",
      " Pop รัก k\n",
      " Pop รัก e\n",
      " Pop รัก F\n",
      " Pop รัก a\n",
      " Pop รัก n\n",
      " Pop รัก g\n",
      " Pop รัก P\n",
      " Pop รัก i\n",
      " Pop รัก n\n",
      " Pop รัก g\n",
      " Fang รัก P\n",
      " Fang รัก a\n",
      " Fang รัก n\n",
      " Fang รัก g\n",
      " Fang รัก B\n",
      " Fang รัก i\n",
      " Fang รัก w\n",
      " Fang รัก L\n",
      " Fang รัก a\n",
      " Fang รัก k\n",
      " Fang รัก e\n",
      " Fang รัก P\n",
      " Fang รัก o\n",
      " Fang รัก p\n",
      " Fang รัก P\n",
      " Fang รัก i\n",
      " Fang รัก n\n",
      " Fang รัก g\n",
      " Ping รัก P\n",
      " Ping รัก a\n",
      " Ping รัก n\n",
      " Ping รัก g\n",
      " Ping รัก B\n",
      " Ping รัก i\n",
      " Ping รัก w\n",
      " Ping รัก L\n",
      " Ping รัก a\n",
      " Ping รัก k\n",
      " Ping รัก e\n",
      " Ping รัก P\n",
      " Ping รัก o\n",
      " Ping รัก p\n",
      " Ping รัก F\n",
      " Ping รัก a\n",
      " Ping รัก n\n",
      " Ping รัก g\n"
     ]
    }
   ],
   "source": [
    "for name1 in  friend_list:\n",
    "    for name2 in  friend_list:\n",
    "        if name1 != name2:\n",
    "                 print_feeling(name1,'รัก',name2)"
   ]
  },
  {
   "cell_type": "code",
   "execution_count": 36,
   "metadata": {},
   "outputs": [
    {
     "name": "stdout",
     "output_type": "stream",
     "text": [
      "Yes\n"
     ]
    }
   ],
   "source": [
    "if True:\n",
    "    print ('Yes')"
   ]
  },
  {
   "cell_type": "markdown",
   "metadata": {},
   "source": [
    "ตัวหลังif มีได้แค่ true กับ false:|"
   ]
  },
  {
   "cell_type": "code",
   "execution_count": 37,
   "metadata": {},
   "outputs": [],
   "source": [
    "if False:\n",
    "    print ('No')"
   ]
  },
  {
   "cell_type": "code",
   "execution_count": 38,
   "metadata": {},
   "outputs": [
    {
     "name": "stdout",
     "output_type": "stream",
     "text": [
      "No\n"
     ]
    }
   ],
   "source": [
    "if False:\n",
    "    print ('Yes')\n",
    "else:\n",
    "    print ('No')"
   ]
  },
  {
   "cell_type": "markdown",
   "metadata": {},
   "source": [
    "ให้ดูว่าเป็น True หรือ False ถ้าหลัง else เป็น False กระโดดออกมา else ให้ปริ้นคำว่า No เป็นการเช็คเงื่อนไข"
   ]
  },
  {
   "cell_type": "code",
   "execution_count": 39,
   "metadata": {},
   "outputs": [
    {
     "data": {
      "text/plain": [
       "True"
      ]
     },
     "execution_count": 39,
     "metadata": {},
     "output_type": "execute_result"
    }
   ],
   "source": [
    "1 == 1"
   ]
  },
  {
   "cell_type": "code",
   "execution_count": 40,
   "metadata": {},
   "outputs": [
    {
     "name": "stdout",
     "output_type": "stream",
     "text": [
      "1=1\n"
     ]
    }
   ],
   "source": [
    "if 1 == 1:\n",
    "    print ('1=1')\n",
    "    "
   ]
  },
  {
   "cell_type": "markdown",
   "metadata": {},
   "source": [
    "เอาไว้เช็คตัวแปร เช่น name1 กับ name2 เท่ากันไหม ถ้าเท่าให้ทำอะไร ไม่เท่าทำอะไร"
   ]
  },
  {
   "cell_type": "markdown",
   "metadata": {},
   "source": [
    "# HW เขียน function ตัดเกรด โดยที่ input เป็นคะแนน(0-100) Output เป็นเกรด (F-A)\n",
    "# input =  [1,50,65,90,101,-5,49]"
   ]
  },
  {
   "cell_type": "code",
   "execution_count": 24,
   "metadata": {},
   "outputs": [
    {
     "name": "stdout",
     "output_type": "stream",
     "text": [
      "[1, 50, 65, 90, 101, -5, 49]\n"
     ]
    }
   ],
   "source": [
    "grade = [1,50,65,90,101,-5,49]\n",
    "print (grade)"
   ]
  },
  {
   "cell_type": "code",
   "execution_count": 25,
   "metadata": {},
   "outputs": [
    {
     "name": "stdout",
     "output_type": "stream",
     "text": [
      "grade is F\n",
      "grade is D\n",
      "grade is C+\n",
      "grade is A\n",
      "grade is Error\n",
      "grade is Ereor\n",
      "grade is F\n"
     ]
    }
   ],
   "source": [
    "for score in grade:\n",
    "    if score > 100:\n",
    "        print('grade is Error')\n",
    "    elif score > 79:\n",
    "        print ('grade is A')\n",
    "    elif score > 74:\n",
    "        print ('grade is B+')\n",
    "    elif score > 69:\n",
    "        print ('grade is B')\n",
    "    elif score > 64:\n",
    "        print ('grade is C+')\n",
    "    elif score > 59:\n",
    "        print ('grade is C')\n",
    "    elif score > 54:\n",
    "        print ('grade is D+')\n",
    "    elif score > 49:\n",
    "        print ('grade is D')\n",
    "    elif score > 0:\n",
    "        print ('grade is F')\n",
    "    else:\n",
    "        print ('grade is Ereor')"
   ]
  },
  {
   "cell_type": "code",
   "execution_count": null,
   "metadata": {},
   "outputs": [],
   "source": []
  },
  {
   "cell_type": "code",
   "execution_count": null,
   "metadata": {},
   "outputs": [],
   "source": []
  }
 ],
 "metadata": {
  "kernelspec": {
   "display_name": "Python 3",
   "language": "python",
   "name": "python3"
  },
  "language_info": {
   "codemirror_mode": {
    "name": "ipython",
    "version": 3
   },
   "file_extension": ".py",
   "mimetype": "text/x-python",
   "name": "python",
   "nbconvert_exporter": "python",
   "pygments_lexer": "ipython3",
   "version": "3.7.4"
  }
 },
 "nbformat": 4,
 "nbformat_minor": 2
}
